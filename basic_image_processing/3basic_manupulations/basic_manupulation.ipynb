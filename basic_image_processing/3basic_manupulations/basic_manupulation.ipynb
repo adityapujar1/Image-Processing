{
 "cells": [
  {
   "cell_type": "code",
   "execution_count": 10,
   "metadata": {},
   "outputs": [
    {
     "name": "stdout",
     "output_type": "stream",
     "text": [
      "size of image is 749 x 707 \n"
     ]
    }
   ],
   "source": [
    "from PIL import Image\n",
    "\n",
    "img = Image.open('images/profile.jpg')\n",
    "width, height = img.size\n",
    "print(\"size of image is {} x {} \".format(width, height))\n",
    "#Resize\n",
    "smaller_img = img.resize((150,150))\n",
    "smaller_img.show()\n",
    "\n",
    "#Crop\n",
    "box = (100,100,400,400)\n",
    "region = img.crop(box)\n",
    "\n",
    "region.show()\n",
    "# #Rotation\n",
    "# rotated_img = img.rotate(45)\n",
    "# rotated_img.show()"
   ]
  },
  {
   "cell_type": "code",
   "execution_count": null,
   "metadata": {},
   "outputs": [],
   "source": []
  }
 ],
 "metadata": {
  "kernelspec": {
   "display_name": "Python 3",
   "language": "python",
   "name": "python3"
  },
  "language_info": {
   "codemirror_mode": {
    "name": "ipython",
    "version": 3
   },
   "file_extension": ".py",
   "mimetype": "text/x-python",
   "name": "python",
   "nbconvert_exporter": "python",
   "pygments_lexer": "ipython3",
   "version": "3.7.9"
  }
 },
 "nbformat": 4,
 "nbformat_minor": 4
}
