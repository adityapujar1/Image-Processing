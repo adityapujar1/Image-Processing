{
 "cells": [
  {
   "cell_type": "code",
   "execution_count": 15,
   "metadata": {},
   "outputs": [],
   "source": [
    "from PIL import Image\n",
    "import os\n",
    "\n",
    "filelist=['images/lena_max.png','images/moon.jpg']\n",
    "\n",
    "\n",
    "for infile  in filelist:\n",
    "    outfile = os.path.splitext(infile)[0]+\".png\"\n",
    "#     print(outfile)\n",
    "    if infile !=outfile:\n",
    "        try:\n",
    "            Image.open(infile).save(outfile)\n",
    "        except IOError:\n",
    "                print(\"Cannot convert\"), infile"
   ]
  },
  {
   "cell_type": "code",
   "execution_count": 12,
   "metadata": {},
   "outputs": [
    {
     "name": "stdout",
     "output_type": "stream",
     "text": [
      "Head of 'Desktop/file.txt:' Desktop/file\n",
      "Tail of 'Desktop/file.txt:' .txt \n",
      "\n"
     ]
    }
   ],
   "source": [
    "import os \n",
    "  \n",
    "# path \n",
    "path = 'Desktop/file.txt'\n",
    "  \n",
    "# Split the path in  \n",
    "# head and tail pair \n",
    "head_tail = os.path.splitext(path) \n",
    "  \n",
    "# print head and tail \n",
    "# of the specified path \n",
    "print(\"Head of '% s:'\" % path, head_tail[0]) \n",
    "print(\"Tail of '% s:'\" % path, head_tail[1], \"\\n\") "
   ]
  },
  {
   "cell_type": "code",
   "execution_count": null,
   "metadata": {},
   "outputs": [],
   "source": []
  }
 ],
 "metadata": {
  "kernelspec": {
   "display_name": "Python 3",
   "language": "python",
   "name": "python3"
  },
  "language_info": {
   "codemirror_mode": {
    "name": "ipython",
    "version": 3
   },
   "file_extension": ".py",
   "mimetype": "text/x-python",
   "name": "python",
   "nbconvert_exporter": "python",
   "pygments_lexer": "ipython3",
   "version": "3.7.9"
  }
 },
 "nbformat": 4,
 "nbformat_minor": 4
}
